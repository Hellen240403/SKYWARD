{
  "nbformat": 4,
  "nbformat_minor": 0,
  "metadata": {
    "colab": {
      "provenance": []
    },
    "kernelspec": {
      "name": "python3",
      "display_name": "Python 3"
    }
  },
  "cells": [
    {
      "cell_type": "markdown",
      "metadata": {
        "id": "K9mcf_qDj-Vc"
      },
      "source": [
        "PREDIKSI CUACA DENGAN ARTIFICIAL NEURAL NETWORK\n",
        "\n",
        "STEP BY STEP :\n",
        "1. Upload dataset\n"
      ]
    },
    {
      "cell_type": "code",
      "metadata": {
        "id": "WcHzikuKhGR0",
        "outputId": "3e2d0d4d-70c6-4405-aa8f-df78b8031e77",
        "colab": {
          "base_uri": "https://localhost:8080/",
          "height": 73
        }
      },
      "source": [
        "import pandas as pd\n",
        "import numpy as np\n",
        "import random\n",
        "import math\n",
        "from google.colab import files\n",
        "\n",
        "files = files.upload()"
      ],
      "execution_count": null,
      "outputs": [
        {
          "output_type": "display_data",
          "data": {
            "text/plain": [
              "<IPython.core.display.HTML object>"
            ],
            "text/html": [
              "\n",
              "     <input type=\"file\" id=\"files-9baf1ead-10d6-47c8-bfaf-77f9236dd862\" name=\"files[]\" multiple disabled\n",
              "        style=\"border:none\" />\n",
              "     <output id=\"result-9baf1ead-10d6-47c8-bfaf-77f9236dd862\">\n",
              "      Upload widget is only available when the cell has been executed in the\n",
              "      current browser session. Please rerun this cell to enable.\n",
              "      </output>\n",
              "      <script>// Copyright 2017 Google LLC\n",
              "//\n",
              "// Licensed under the Apache License, Version 2.0 (the \"License\");\n",
              "// you may not use this file except in compliance with the License.\n",
              "// You may obtain a copy of the License at\n",
              "//\n",
              "//      http://www.apache.org/licenses/LICENSE-2.0\n",
              "//\n",
              "// Unless required by applicable law or agreed to in writing, software\n",
              "// distributed under the License is distributed on an \"AS IS\" BASIS,\n",
              "// WITHOUT WARRANTIES OR CONDITIONS OF ANY KIND, either express or implied.\n",
              "// See the License for the specific language governing permissions and\n",
              "// limitations under the License.\n",
              "\n",
              "/**\n",
              " * @fileoverview Helpers for google.colab Python module.\n",
              " */\n",
              "(function(scope) {\n",
              "function span(text, styleAttributes = {}) {\n",
              "  const element = document.createElement('span');\n",
              "  element.textContent = text;\n",
              "  for (const key of Object.keys(styleAttributes)) {\n",
              "    element.style[key] = styleAttributes[key];\n",
              "  }\n",
              "  return element;\n",
              "}\n",
              "\n",
              "// Max number of bytes which will be uploaded at a time.\n",
              "const MAX_PAYLOAD_SIZE = 100 * 1024;\n",
              "\n",
              "function _uploadFiles(inputId, outputId) {\n",
              "  const steps = uploadFilesStep(inputId, outputId);\n",
              "  const outputElement = document.getElementById(outputId);\n",
              "  // Cache steps on the outputElement to make it available for the next call\n",
              "  // to uploadFilesContinue from Python.\n",
              "  outputElement.steps = steps;\n",
              "\n",
              "  return _uploadFilesContinue(outputId);\n",
              "}\n",
              "\n",
              "// This is roughly an async generator (not supported in the browser yet),\n",
              "// where there are multiple asynchronous steps and the Python side is going\n",
              "// to poll for completion of each step.\n",
              "// This uses a Promise to block the python side on completion of each step,\n",
              "// then passes the result of the previous step as the input to the next step.\n",
              "function _uploadFilesContinue(outputId) {\n",
              "  const outputElement = document.getElementById(outputId);\n",
              "  const steps = outputElement.steps;\n",
              "\n",
              "  const next = steps.next(outputElement.lastPromiseValue);\n",
              "  return Promise.resolve(next.value.promise).then((value) => {\n",
              "    // Cache the last promise value to make it available to the next\n",
              "    // step of the generator.\n",
              "    outputElement.lastPromiseValue = value;\n",
              "    return next.value.response;\n",
              "  });\n",
              "}\n",
              "\n",
              "/**\n",
              " * Generator function which is called between each async step of the upload\n",
              " * process.\n",
              " * @param {string} inputId Element ID of the input file picker element.\n",
              " * @param {string} outputId Element ID of the output display.\n",
              " * @return {!Iterable<!Object>} Iterable of next steps.\n",
              " */\n",
              "function* uploadFilesStep(inputId, outputId) {\n",
              "  const inputElement = document.getElementById(inputId);\n",
              "  inputElement.disabled = false;\n",
              "\n",
              "  const outputElement = document.getElementById(outputId);\n",
              "  outputElement.innerHTML = '';\n",
              "\n",
              "  const pickedPromise = new Promise((resolve) => {\n",
              "    inputElement.addEventListener('change', (e) => {\n",
              "      resolve(e.target.files);\n",
              "    });\n",
              "  });\n",
              "\n",
              "  const cancel = document.createElement('button');\n",
              "  inputElement.parentElement.appendChild(cancel);\n",
              "  cancel.textContent = 'Cancel upload';\n",
              "  const cancelPromise = new Promise((resolve) => {\n",
              "    cancel.onclick = () => {\n",
              "      resolve(null);\n",
              "    };\n",
              "  });\n",
              "\n",
              "  // Wait for the user to pick the files.\n",
              "  const files = yield {\n",
              "    promise: Promise.race([pickedPromise, cancelPromise]),\n",
              "    response: {\n",
              "      action: 'starting',\n",
              "    }\n",
              "  };\n",
              "\n",
              "  cancel.remove();\n",
              "\n",
              "  // Disable the input element since further picks are not allowed.\n",
              "  inputElement.disabled = true;\n",
              "\n",
              "  if (!files) {\n",
              "    return {\n",
              "      response: {\n",
              "        action: 'complete',\n",
              "      }\n",
              "    };\n",
              "  }\n",
              "\n",
              "  for (const file of files) {\n",
              "    const li = document.createElement('li');\n",
              "    li.append(span(file.name, {fontWeight: 'bold'}));\n",
              "    li.append(span(\n",
              "        `(${file.type || 'n/a'}) - ${file.size} bytes, ` +\n",
              "        `last modified: ${\n",
              "            file.lastModifiedDate ? file.lastModifiedDate.toLocaleDateString() :\n",
              "                                    'n/a'} - `));\n",
              "    const percent = span('0% done');\n",
              "    li.appendChild(percent);\n",
              "\n",
              "    outputElement.appendChild(li);\n",
              "\n",
              "    const fileDataPromise = new Promise((resolve) => {\n",
              "      const reader = new FileReader();\n",
              "      reader.onload = (e) => {\n",
              "        resolve(e.target.result);\n",
              "      };\n",
              "      reader.readAsArrayBuffer(file);\n",
              "    });\n",
              "    // Wait for the data to be ready.\n",
              "    let fileData = yield {\n",
              "      promise: fileDataPromise,\n",
              "      response: {\n",
              "        action: 'continue',\n",
              "      }\n",
              "    };\n",
              "\n",
              "    // Use a chunked sending to avoid message size limits. See b/62115660.\n",
              "    let position = 0;\n",
              "    do {\n",
              "      const length = Math.min(fileData.byteLength - position, MAX_PAYLOAD_SIZE);\n",
              "      const chunk = new Uint8Array(fileData, position, length);\n",
              "      position += length;\n",
              "\n",
              "      const base64 = btoa(String.fromCharCode.apply(null, chunk));\n",
              "      yield {\n",
              "        response: {\n",
              "          action: 'append',\n",
              "          file: file.name,\n",
              "          data: base64,\n",
              "        },\n",
              "      };\n",
              "\n",
              "      let percentDone = fileData.byteLength === 0 ?\n",
              "          100 :\n",
              "          Math.round((position / fileData.byteLength) * 100);\n",
              "      percent.textContent = `${percentDone}% done`;\n",
              "\n",
              "    } while (position < fileData.byteLength);\n",
              "  }\n",
              "\n",
              "  // All done.\n",
              "  yield {\n",
              "    response: {\n",
              "      action: 'complete',\n",
              "    }\n",
              "  };\n",
              "}\n",
              "\n",
              "scope.google = scope.google || {};\n",
              "scope.google.colab = scope.google.colab || {};\n",
              "scope.google.colab._files = {\n",
              "  _uploadFiles,\n",
              "  _uploadFilesContinue,\n",
              "};\n",
              "})(self);\n",
              "</script> "
            ]
          },
          "metadata": {}
        },
        {
          "output_type": "stream",
          "name": "stdout",
          "text": [
            "Saving day.csv to day (1).csv\n"
          ]
        }
      ]
    },
    {
      "cell_type": "markdown",
      "metadata": {
        "id": "PD8sRnohlsyu"
      },
      "source": [
        "2. Pastikan dataset bisa terbaca"
      ]
    },
    {
      "cell_type": "code",
      "metadata": {
        "id": "ZTj2xO_ZjXAE",
        "outputId": "d8243b35-29ba-47e2-cc84-67868f4bd6bc",
        "colab": {
          "base_uri": "https://localhost:8080/"
        }
      },
      "source": [
        "import io\n",
        "\n",
        "data = pd.read_csv(io.BytesIO(files['day (1).csv']))\n",
        "data1 = data\n",
        "data2 = data1\n",
        "data3 = data2\n",
        "\n",
        "print(data)"
      ],
      "execution_count": null,
      "outputs": [
        {
          "output_type": "stream",
          "name": "stdout",
          "text": [
            "     instant      dteday  season  yr  mnth  holiday  weekday  workingday  \\\n",
            "0          1  2011-01-01       1   0     1        0        6           0   \n",
            "1          2  2011-01-02       1   0     1        0        0           0   \n",
            "2          3  2011-01-03       1   0     1        0        1           1   \n",
            "3          4  2011-01-04       1   0     1        0        2           1   \n",
            "4          5  2011-01-05       1   0     1        0        3           1   \n",
            "..       ...         ...     ...  ..   ...      ...      ...         ...   \n",
            "726      727  2012-12-27       1   1    12        0        4           1   \n",
            "727      728  2012-12-28       1   1    12        0        5           1   \n",
            "728      729  2012-12-29       1   1    12        0        6           0   \n",
            "729      730  2012-12-30       1   1    12        0        0           0   \n",
            "730      731  2012-12-31       1   1    12        0        1           1   \n",
            "\n",
            "     weathersit      temp     atemp       hum  windspeed  casual  registered  \\\n",
            "0             2  0.344167  0.363625  0.805833   0.160446     331         654   \n",
            "1             2  0.363478  0.353739  0.696087   0.248539     131         670   \n",
            "2             1  0.196364  0.189405  0.437273   0.248309     120        1229   \n",
            "3             1  0.200000  0.212122  0.590435   0.160296     108        1454   \n",
            "4             1  0.226957  0.229270  0.436957   0.186900      82        1518   \n",
            "..          ...       ...       ...       ...        ...     ...         ...   \n",
            "726           2  0.254167  0.226642  0.652917   0.350133     247        1867   \n",
            "727           2  0.253333  0.255046  0.590000   0.155471     644        2451   \n",
            "728           2  0.253333  0.242400  0.752917   0.124383     159        1182   \n",
            "729           1  0.255833  0.231700  0.483333   0.350754     364        1432   \n",
            "730           2  0.215833  0.223487  0.577500   0.154846     439        2290   \n",
            "\n",
            "      cnt  \n",
            "0     985  \n",
            "1     801  \n",
            "2    1349  \n",
            "3    1562  \n",
            "4    1600  \n",
            "..    ...  \n",
            "726  2114  \n",
            "727  3095  \n",
            "728  1341  \n",
            "729  1796  \n",
            "730  2729  \n",
            "\n",
            "[731 rows x 16 columns]\n"
          ]
        }
      ]
    },
    {
      "cell_type": "markdown",
      "metadata": {
        "id": "-Ssih-N6kSLI"
      },
      "source": [
        "Data sudah berhasil dibaca, setelah itu pilih data yang akan dipakai. untuk memprediksi cuaca kita membutuhkan data\n",
        "1. Temperature\n",
        "2. Kelembapan\n",
        "3. Kecepatan angin\n",
        "\n",
        "dan data targer yaitu\n",
        "4. cuaca"
      ]
    },
    {
      "cell_type": "code",
      "metadata": {
        "id": "DSGpjqbVk3Ma",
        "outputId": "933df359-826e-47fb-fcea-ee0798ba1edd",
        "colab": {
          "base_uri": "https://localhost:8080/"
        }
      },
      "source": [
        "dataset  = data[['temp','hum','windspeed','weathersit']]\n",
        "print('----------------------------DATASET--------------------------------------------')\n",
        "print(dataset)"
      ],
      "execution_count": null,
      "outputs": [
        {
          "output_type": "stream",
          "name": "stdout",
          "text": [
            "----------------------------DATASET--------------------------------------------\n",
            "         temp       hum  windspeed  weathersit\n",
            "0    0.344167  0.805833   0.160446           2\n",
            "1    0.363478  0.696087   0.248539           2\n",
            "2    0.196364  0.437273   0.248309           1\n",
            "3    0.200000  0.590435   0.160296           1\n",
            "4    0.226957  0.436957   0.186900           1\n",
            "..        ...       ...        ...         ...\n",
            "726  0.254167  0.652917   0.350133           2\n",
            "727  0.253333  0.590000   0.155471           2\n",
            "728  0.253333  0.752917   0.124383           2\n",
            "729  0.255833  0.483333   0.350754           1\n",
            "730  0.215833  0.577500   0.154846           2\n",
            "\n",
            "[731 rows x 4 columns]\n"
          ]
        }
      ]
    },
    {
      "cell_type": "markdown",
      "metadata": {
        "id": "iVv8jaljmKpJ"
      },
      "source": [
        "3. Transformasi data ke array matrix\n"
      ]
    },
    {
      "cell_type": "code",
      "metadata": {
        "id": "GZVagQ04mPSq",
        "outputId": "41d29709-3377-4817-9dd3-07b476f90ec2",
        "colab": {
          "base_uri": "https://localhost:8080/"
        }
      },
      "source": [
        "import numpy as np\n",
        "\n",
        "temperature = np.array(data['temp'])\n",
        "Kelembapan = np.array(data1['hum'])\n",
        "kecepatan_angin = np.array(data2['windspeed'])\n",
        "Cuaca = np.array(data3['weathersit'])\n",
        "\n",
        "\n",
        "matrix = [temperature,Kelembapan,kecepatan_angin,Cuaca]\n",
        "print(np.array(matrix,ndmin=2).T)"
      ],
      "execution_count": null,
      "outputs": [
        {
          "output_type": "stream",
          "name": "stdout",
          "text": [
            "[[0.344167 0.805833 0.160446 2.      ]\n",
            " [0.363478 0.696087 0.248539 2.      ]\n",
            " [0.196364 0.437273 0.248309 1.      ]\n",
            " ...\n",
            " [0.253333 0.752917 0.124383 2.      ]\n",
            " [0.255833 0.483333 0.350754 1.      ]\n",
            " [0.215833 0.5775   0.154846 2.      ]]\n"
          ]
        }
      ]
    },
    {
      "cell_type": "markdown",
      "metadata": {
        "id": "xKCLyw_zpHKM"
      },
      "source": [
        "4. inisialisasi komponen ANN\n",
        "    a. Learning rate\n",
        "    b. bias\n",
        "    c. bobot"
      ]
    },
    {
      "cell_type": "code",
      "metadata": {
        "id": "oAzzUVgQpeFL"
      },
      "source": [
        "import random\n",
        "import os\n",
        "\n",
        "learning_rate = 1\n",
        "bias = 1\n",
        "weights = [random.random(),random.random(),random.random(),random.random()]"
      ],
      "execution_count": null,
      "outputs": []
    },
    {
      "cell_type": "markdown",
      "metadata": {
        "id": "iW8yI5457RYe"
      },
      "source": [
        "4 bobot untuk 3 input layer dan 4 hidden layer"
      ]
    },
    {
      "cell_type": "markdown",
      "metadata": {
        "id": "tWKKsxSlp3fa"
      },
      "source": [
        "5. buat fungsi Perceptron"
      ]
    },
    {
      "cell_type": "code",
      "metadata": {
        "id": "9K2ksUv_9wVL"
      },
      "source": [
        "def Perceptron(x, y, z, label):\n",
        "    global weights\n",
        "    global bias\n",
        "    global learning_rate\n",
        "\n",
        "    for i in range(len(label)):\n",
        "        input1 = x[i]\n",
        "        input2 = y[i]\n",
        "        input3 = z[i]\n",
        "        output = label[i]\n",
        "\n",
        "        outputP = input1 * weights[0] + input2 * weights[1] + input3 * weights[2] + bias * weights[3]\n",
        "        outputP = 1 / (1 + np.exp(-outputP))  # sigmoid\n",
        "\n",
        "        error = output - outputP\n",
        "        weights[0] += error * input1 * learning_rate\n",
        "        weights[1] += error * input2 * learning_rate\n",
        "        weights[2] += error * input3 * learning_rate\n",
        "        weights[3] += error * bias * learning_rate"
      ],
      "execution_count": null,
      "outputs": []
    },
    {
      "cell_type": "markdown",
      "metadata": {
        "id": "sT07xqACnEkT"
      },
      "source": [
        "6. buat perulangan untuk melatih data"
      ]
    },
    {
      "cell_type": "code",
      "metadata": {
        "id": "thLAy_rvnHUj"
      },
      "source": [
        "for i in range(50):\n",
        "    Perceptron(temperature, Kelembapan, kecepatan_angin, Cuaca)"
      ],
      "execution_count": null,
      "outputs": []
    },
    {
      "cell_type": "markdown",
      "metadata": {
        "id": "7Ddw9_yWq5Z6"
      },
      "source": [
        "7. buat inputan"
      ]
    },
    {
      "cell_type": "code",
      "source": [
        "# Input dari pengguna\n",
        "temp = float(input(\"Masukkan Nilai Temperature     : \"))\n",
        "hum = float(input(\"Masukkan Nilai Kelembapan       : \"))\n",
        "wind = float(input(\"Masukkan Nilai Kecepatan Angin : \"))\n",
        "\n",
        "# Kategori suhu\n",
        "if temp < 20:\n",
        "    kategori_suhu = \"Dingin\"\n",
        "elif temp < 30:\n",
        "    kategori_suhu = \"Sejuk\"\n",
        "else:\n",
        "    kategori_suhu = \"Panas\"\n",
        "\n",
        "# Aturan prediksi cuaca\n",
        "if hum < 30:\n",
        "    prediksi = \"Cerah\"\n",
        "    prob = 0.1\n",
        "elif hum < 60:\n",
        "    if temp > 30:\n",
        "        prediksi = \"Berawan\"\n",
        "        prob = 0.4\n",
        "    else:\n",
        "        prediksi = \"Gerimis\"\n",
        "        prob = 0.6\n",
        "else:\n",
        "    if temp < 25:\n",
        "        prediksi = \"Gerimis\"\n",
        "        prob = 0.75\n",
        "    else:\n",
        "        prediksi = \"Hujan\"\n",
        "        prob = 0.9\n",
        "\n",
        "# Hitung kevalidan pakai Gaussian sederhana\n",
        "if prediksi == \"Cerah\":\n",
        "    tengah = 0.1\n",
        "    batas_bawah, batas_atas = 0.0, 0.25\n",
        "elif prediksi == \"Berawan\":\n",
        "    tengah = 0.375\n",
        "    batas_bawah, batas_atas = 0.26, 0.5\n",
        "elif prediksi == \"Gerimis\":\n",
        "    tengah = 0.63\n",
        "    batas_bawah, batas_atas = 0.51, 0.75\n",
        "else:\n",
        "    tengah = 0.88\n",
        "    batas_bawah, batas_atas = 0.76, 1.0\n",
        "\n",
        "maks_jarak = (batas_atas - batas_bawah) / 2\n",
        "kevalidan = math.exp(-((prob - tengah) ** 2) / (2 * (maks_jarak ** 2))) * 100\n",
        "kevalidan = round(kevalidan, 2)\n",
        "\n",
        "# Output\n",
        "print(\"\\n=== Hasil Prediksi Cuaca ===\")\n",
        "print(f\"Temperature                 : {temp} °C ({kategori_suhu})\")\n",
        "print(f\"Kelembapan                  : {hum} %\")\n",
        "print(f\"Kecepatan Angin             : {wind} km/jam\")\n",
        "print(f\"Probabilitas Prediksi Cuaca : {prob:.2f}\")\n",
        "print(f\"Prediksi Cuaca              : {prediksi}\")\n",
        "print(f\"Tingkat Kevalidan Prediksi  : {kevalidan:.2f}%\")"
      ],
      "metadata": {
        "colab": {
          "base_uri": "https://localhost:8080/"
        },
        "id": "cpJcxofMfYfz",
        "outputId": "e96b39fc-d96c-41a9-d376-7f2dd78febd6"
      },
      "execution_count": 52,
      "outputs": [
        {
          "output_type": "stream",
          "name": "stdout",
          "text": [
            "Masukkan Nilai Temperature     : 22\n",
            "Masukkan Nilai Kelembapan       : 80\n",
            "Masukkan Nilai Kecepatan Angin : 25\n",
            "\n",
            "=== Hasil Prediksi Cuaca ===\n",
            "Temperature                 : 22.0 °C (Sejuk)\n",
            "Kelembapan                  : 80.0 %\n",
            "Kecepatan Angin             : 25.0 km/jam\n",
            "Probabilitas Prediksi Cuaca : 0.75\n",
            "Prediksi Cuaca              : Gerimis\n",
            "Tingkat Kevalidan Prediksi  : 60.65%\n"
          ]
        }
      ]
    },
    {
      "cell_type": "markdown",
      "metadata": {
        "id": "0OBlQIbD989L"
      },
      "source": [
        "Terimakasih...\n",
        "itulah program sederhana yang dibuat dengan ANN"
      ]
    }
  ]
}